{
 "cells": [
  {
   "cell_type": "markdown",
   "id": "b73a1de2-05df-49ab-bec9-897f11dbe9a9",
   "metadata": {
    "editable": true,
    "slideshow": {
     "slide_type": ""
    },
    "tags": []
   },
   "source": [
    "# Sentiment Analysis\n",
    "\n",
    "Model: [cardiffnlp/twitter-roberta-base-sentiment-latest](https://huggingface.co/cardiffnlp/twitter-roberta-base-sentiment-latest)\n",
    "\n",
    "**Important: This notebook must be placed in folder `/transfomers`**\n",
    "\n",
    "\n",
    "## AI Lab config"
   ]
  },
  {
   "cell_type": "code",
   "execution_count": 1,
   "id": "f22caa07-85b9-47a4-bef6-007fec786f96",
   "metadata": {},
   "outputs": [
    {
     "data": {
      "application/vnd.jupyter.widget-view+json": {
       "model_id": "6c0299a8176840d1ac3372bac99f372f",
       "version_major": 2,
       "version_minor": 0
      },
      "text/plain": [
       "Output()"
      ]
     },
     "metadata": {},
     "output_type": "display_data"
    },
    {
     "data": {
      "application/vnd.jupyter.widget-view+json": {
       "model_id": "eefef7e688514a978c6127f03529277d",
       "version_major": 2,
       "version_minor": 0
      },
      "text/plain": [
       "Box(children=(Box(children=(Label(value='Configuration Store', layout=Layout(border_bottom='solid 1px', border…"
      ]
     },
     "metadata": {},
     "output_type": "display_data"
    }
   ],
   "source": [
    "%run ../utils/access_store_ui.ipynb\n",
    "display(get_access_store_ui('../'))"
   ]
  },
  {
   "cell_type": "markdown",
   "id": "bf2869bb-7d0a-42fb-99b0-82d0f5544e11",
   "metadata": {},
   "source": [
    "## Get Model"
   ]
  },
  {
   "cell_type": "code",
   "execution_count": 15,
   "id": "d73c9b44-93a0-4df3-9a8e-54e182027d61",
   "metadata": {},
   "outputs": [],
   "source": [
    "MODEL_NAME = 'cardiffnlp/twitter-roberta-base-sentiment-latest'"
   ]
  },
  {
   "cell_type": "code",
   "execution_count": 16,
   "id": "57029a52-064b-4fda-80bf-289cce50ffc4",
   "metadata": {
    "slideshow": {
     "slide_type": ""
    },
    "tags": [
     "uploading_model"
    ]
   },
   "outputs": [],
   "source": [
    "%run utils/model_retrieval.ipynb\n",
    "load_huggingface_model(ai_lab_config, MODEL_NAME, 'sequence_classification')"
   ]
  },
  {
   "cell_type": "markdown",
   "id": "b4efa927-aa78-4b80-9b78-25e722904217",
   "metadata": {},
   "source": [
    "## Invoke model with UDF"
   ]
  },
  {
   "cell_type": "code",
   "execution_count": 20,
   "id": "aa3998b7-d886-4b0c-b0d2-92e54cc27b91",
   "metadata": {},
   "outputs": [
    {
     "name": "stdout",
     "output_type": "stream",
     "text": [
      "I''m having an issue with the Bose Sound Link. Please assist. This problem started occurring after the recent software update. I haven''t made any other changes to the device.\n"
     ]
    }
   ],
   "source": [
    "MY_TEXT = \"I'm having an issue with the Bose Sound Link. Please assist. This problem started occurring after the recent software update. I haven't made any other changes to the device.\"\n",
    "\n",
    "# Make sure our texts can be used in an SQL statement.\n",
    "MY_TEXT = MY_TEXT.replace(\"'\", \"''\")\n",
    "\n",
    "print(MY_TEXT)"
   ]
  },
  {
   "cell_type": "code",
   "execution_count": 21,
   "id": "94a45b81-29e3-40f8-9bb8-4b7a5c6eb28c",
   "metadata": {},
   "outputs": [],
   "source": [
    "from exasol.nb_connector.connections import open_pyexasol_connection\n",
    "from exasol.nb_connector.language_container_activation import get_activation_sql\n",
    "\n",
    "# We will be creating a new database session every time we call the model.\n",
    "# We will have to activate the language container for each of these sessions.\n",
    "# Here we will get the activation SQL command.\n",
    "activation_sql = get_activation_sql(ai_lab_config)"
   ]
  },
  {
   "cell_type": "code",
   "execution_count": 28,
   "id": "51b0d826-519a-4e03-9ce0-3827d0756f1d",
   "metadata": {
    "editable": true,
    "slideshow": {
     "slide_type": ""
    },
    "tags": [
     "running_model_pyexasol"
    ]
   },
   "outputs": [
    {
     "name": "stdout",
     "output_type": "stream",
     "text": [
      "ALTER SESSION SET SCRIPT_LANGUAGES='R=builtin_r JAVA=builtin_java PYTHON3=builtin_python3 PYTHON3_TE=localzmq+protobuf:///uploads/default/TE/exasol_transformers_extension_container_release?lang=python#/buckets/uploads/default/TE/exasol_transformers_extension_container_release/exaudf/exaudfclient_py3';\n",
      "\n",
      "SELECT MN_AILAB.TE_SEQUENCE_CLASSIFICATION_SINGLE_TEXT_UDF(\n",
      "    NULL,\n",
      "    'TE_BFS_EXASOL_MN',\n",
      "    'te_models',\n",
      "    'cardiffnlp/twitter-roberta-base-sentiment-latest',\n",
      "    'I''m having an issue with the Bose Sound Link. Please assist. This problem started occurring after the recent software update. I haven''t made any other changes to the device.'\n",
      ")\n",
      "\n"
     ]
    },
    {
     "data": {
      "text/html": [
       "<div>\n",
       "<style scoped>\n",
       "    .dataframe tbody tr th:only-of-type {\n",
       "        vertical-align: middle;\n",
       "    }\n",
       "\n",
       "    .dataframe tbody tr th {\n",
       "        vertical-align: top;\n",
       "    }\n",
       "\n",
       "    .dataframe thead th {\n",
       "        text-align: right;\n",
       "    }\n",
       "</style>\n",
       "<table border=\"1\" class=\"dataframe\">\n",
       "  <thead>\n",
       "    <tr style=\"text-align: right;\">\n",
       "      <th></th>\n",
       "      <th>BUCKETFS_CONN</th>\n",
       "      <th>SUB_DIR</th>\n",
       "      <th>MODEL_NAME</th>\n",
       "      <th>TEXT_DATA</th>\n",
       "      <th>LABEL</th>\n",
       "      <th>SCORE</th>\n",
       "      <th>ERROR_MESSAGE</th>\n",
       "    </tr>\n",
       "  </thead>\n",
       "  <tbody>\n",
       "    <tr>\n",
       "      <th>0</th>\n",
       "      <td>TE_BFS_EXASOL_MN</td>\n",
       "      <td>te_models</td>\n",
       "      <td>cardiffnlp/twitter-roberta-base-sentiment-latest</td>\n",
       "      <td>I'm having an issue with the Bose Sound Link. ...</td>\n",
       "      <td>negative</td>\n",
       "      <td>0.828092</td>\n",
       "      <td>NaN</td>\n",
       "    </tr>\n",
       "    <tr>\n",
       "      <th>1</th>\n",
       "      <td>TE_BFS_EXASOL_MN</td>\n",
       "      <td>te_models</td>\n",
       "      <td>cardiffnlp/twitter-roberta-base-sentiment-latest</td>\n",
       "      <td>I'm having an issue with the Bose Sound Link. ...</td>\n",
       "      <td>neutral</td>\n",
       "      <td>0.163371</td>\n",
       "      <td>NaN</td>\n",
       "    </tr>\n",
       "    <tr>\n",
       "      <th>2</th>\n",
       "      <td>TE_BFS_EXASOL_MN</td>\n",
       "      <td>te_models</td>\n",
       "      <td>cardiffnlp/twitter-roberta-base-sentiment-latest</td>\n",
       "      <td>I'm having an issue with the Bose Sound Link. ...</td>\n",
       "      <td>positive</td>\n",
       "      <td>0.008537</td>\n",
       "      <td>NaN</td>\n",
       "    </tr>\n",
       "  </tbody>\n",
       "</table>\n",
       "</div>"
      ],
      "text/plain": [
       "      BUCKETFS_CONN    SUB_DIR  \\\n",
       "0  TE_BFS_EXASOL_MN  te_models   \n",
       "1  TE_BFS_EXASOL_MN  te_models   \n",
       "2  TE_BFS_EXASOL_MN  te_models   \n",
       "\n",
       "                                         MODEL_NAME  \\\n",
       "0  cardiffnlp/twitter-roberta-base-sentiment-latest   \n",
       "1  cardiffnlp/twitter-roberta-base-sentiment-latest   \n",
       "2  cardiffnlp/twitter-roberta-base-sentiment-latest   \n",
       "\n",
       "                                           TEXT_DATA     LABEL     SCORE  \\\n",
       "0  I'm having an issue with the Bose Sound Link. ...  negative  0.828092   \n",
       "1  I'm having an issue with the Bose Sound Link. ...   neutral  0.163371   \n",
       "2  I'm having an issue with the Bose Sound Link. ...  positive  0.008537   \n",
       "\n",
       "   ERROR_MESSAGE  \n",
       "0            NaN  \n",
       "1            NaN  \n",
       "2            NaN  "
      ]
     },
     "execution_count": 28,
     "metadata": {},
     "output_type": "execute_result"
    }
   ],
   "source": [
    "sql = f\"\"\"\n",
    "SELECT {ai_lab_config.db_schema}.TE_SEQUENCE_CLASSIFICATION_SINGLE_TEXT_UDF(\n",
    "    NULL,\n",
    "    '{ai_lab_config.te_bfs_connection}',\n",
    "    '{ai_lab_config.te_models_bfs_dir}',\n",
    "    '{MODEL_NAME}',\n",
    "    '{MY_TEXT}'\n",
    ")\n",
    "\"\"\"\n",
    "\n",
    "print(activation_sql)\n",
    "print(sql)\n",
    "\n",
    "with open_pyexasol_connection(ai_lab_config, compression=True) as conn:\n",
    "    conn.execute(query=activation_sql)\n",
    "    result = conn.export_to_pandas(query_or_table=sql)    \n",
    "\n",
    "# Show result data frame\n",
    "result"
   ]
  }
 ],
 "metadata": {
  "kernelspec": {
   "display_name": "Python 3 (ipykernel)",
   "language": "python",
   "name": "python3"
  },
  "language_info": {
   "codemirror_mode": {
    "name": "ipython",
    "version": 3
   },
   "file_extension": ".py",
   "mimetype": "text/x-python",
   "name": "python",
   "nbconvert_exporter": "python",
   "pygments_lexer": "ipython3",
   "version": "3.10.12"
  }
 },
 "nbformat": 4,
 "nbformat_minor": 5
}
